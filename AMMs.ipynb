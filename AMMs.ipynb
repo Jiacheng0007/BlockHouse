{
  "metadata": {
    "kernelspec": {
      "name": "python",
      "display_name": "Python (Pyodide)",
      "language": "python"
    },
    "language_info": {
      "codemirror_mode": {
        "name": "python",
        "version": 3
      },
      "file_extension": ".py",
      "mimetype": "text/x-python",
      "name": "python",
      "nbconvert_exporter": "python",
      "pygments_lexer": "ipython3",
      "version": "3.8"
    }
  },
  "nbformat_minor": 4,
  "nbformat": 4,
  "cells": [
    {
      "cell_type": "code",
      "source": "class AutomatedMarketMaker:\n    def __init__(self, x_reserve, y_reserve, px_initial, py_initial):\n        self.x = x_reserve\n        self.y = y_reserve\n        self.px = px_initial  # Price of token X\n        self.py = py_initial  # Price of token Y\n        self.k = x_reserve * y_reserve  # constant product\n        self.x_initial = x_reserve\n        self.y_initial = y_reserve\n\n    def buys_in_x(self, amount):\n        self.x = self.x-amount\n        self.newy = self.k / self.x  # Adjust Y reserve to maintain the constant product\n        print(f'Current X reserve: {self.x}, Current Y reserve: {self.newy},  Price the trader pays for the swap: {self.newy-self.y} tokens Y')\n\n    def buys_in_y(self, amount):\n        self.y = self.y-amount\n        self.newx = self.k / self.y  # Adjust X reserve to maintain the constant product\n        print(f'Current Y reserve: {self.y}, Current X reserve: {self.newx},  Price the trader pays for the swap: {self.newx-self.x} tokens X')\n\n    def swap_x_for_y(self, x_amount):\n        new_x = self.x + x_amount\n        new_y = self.k / new_x\n        y_amount = self.y - new_y\n        self.x = new_x\n        self.y = new_y\n        return y_amount\n\n    def swap_y_for_x(self, y_amount):\n        new_y = self.y + y_amount\n        new_x = self.k / new_y\n        x_amount = self.x - new_x\n        self.x = new_x\n        self.y = new_y\n        return x_amount\n\n    def calculate_liquidity(self):\n        return self.x * self.px + self.y * self.py\n\n    def calculate_hold(self):\n        return self.x_initial * self.px + self.y_initial * self.py\n\n# Example usage:\namm = AutomatedMarketMaker(100, 250, 5, 2)\namm.buys_in_x(5)  # Update the price of X to $6\n\ncurrent_liquidity = amm.calculate_liquidity()\ninitial_hold = amm.calculate_hold()\nprint(f'Current Liquidity: {current_liquidity} USD')\nprint(f'Initial Hold Value: {initial_hold} USD')\n",
      "metadata": {
        "trusted": true
      },
      "outputs": [
        {
          "name": "stdout",
          "text": "Current X reserve: 95, Current Y reserve: 263.1578947368421,  Price the trader pays for the swap: 13.157894736842081 tokens Y\nCurrent Liquidity: 975 USD\nInitial Hold Value: 1000 USD\n",
          "output_type": "stream"
        }
      ],
      "execution_count": 8
    },
    {
      "cell_type": "code",
      "source": "",
      "metadata": {
        "trusted": true
      },
      "outputs": [],
      "execution_count": null
    }
  ]
}