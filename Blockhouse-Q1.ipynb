{
  "metadata": {
    "kernelspec": {
      "name": "python",
      "display_name": "Python (Pyodide)",
      "language": "python"
    },
    "language_info": {
      "codemirror_mode": {
        "name": "python",
        "version": 3
      },
      "file_extension": ".py",
      "mimetype": "text/x-python",
      "name": "python",
      "nbconvert_exporter": "python",
      "pygments_lexer": "ipython3",
      "version": "3.8"
    }
  },
  "nbformat_minor": 4,
  "nbformat": 4,
  "cells": [
    {
      "cell_type": "markdown",
      "source": "# Some features require access to external data sources, so I will write pseudocode or simplified versions where necessary.",
      "metadata": {}
    },
    {
      "cell_type": "markdown",
      "source": "## 1.Sentiment Score:\n\nThis code calculates the average sentiment score from a list of news articles using the VADER sentiment analysis tool. It helps gauge market sentiment toward the stock.",
      "metadata": {}
    },
    {
      "cell_type": "code",
      "source": "import nltk\nfrom nltk.sentiment.vader import SentimentIntensityAnalyzer\nimport requests\n\n# Ensure you have the VADER lexicon downloaded\nnltk.download('vader_lexicon')\n\ndef get_sentiment_score(news_articles):\n    sia = SentimentIntensityAnalyzer()\n    scores = [sia.polarity_scores(article)['compound'] for article in news_articles]\n    return sum(scores) / len(scores) if scores else 0\n\n# Example usage with a list of news articles\nnews_articles = [\n    \"Company X's earnings beat expectations, stock surges.\",\n    \"Company X faces legal issues, stock might take a hit.\"\n]\nsentiment_score = get_sentiment_score(news_articles)\nprint(f\"Sentiment Score: {sentiment_score}\")",
      "metadata": {
        "trusted": true
      },
      "outputs": [],
      "execution_count": null
    },
    {
      "cell_type": "markdown",
      "source": "# 2.Insider Trading Activity:\n\nThis code fetches insider trading data from an API and calculates the total number of shares traded by insiders, which can indicate insider confidence.",
      "metadata": {}
    },
    {
      "cell_type": "code",
      "source": "import requests\n\ndef get_insider_trading_activity(stock_symbol):\n    url = f\"https://finnhub.io/api/v1/stock/insider-transactions?symbol={stock_symbol}&token=YOUR_API_KEY\"\n    response = requests.get(url).json()\n    total_shares = sum([transaction['share'] for transaction in response['data']])\n    return total_shares\n\n# Example usage\nstock_symbol = \"AAPL\"\ninsider_trading_activity = get_insider_trading_activity(stock_symbol)\nprint(f\"Insider Trading Activity: {insider_trading_activity}\")",
      "metadata": {
        "trusted": true
      },
      "outputs": [],
      "execution_count": null
    },
    {
      "cell_type": "markdown",
      "source": "# 3.Earnings Surprise:\n\nThis code calculates the earnings surprise, which is the percentage difference between actual and expected earnings, an important factor for predicting stock movements.",
      "metadata": {}
    },
    {
      "cell_type": "code",
      "source": "def get_earnings_surprise(actual_earnings, expected_earnings):\n    return (actual_earnings - expected_earnings) / expected_earnings\n\n# Example usage\nactual_earnings = 5.0  # Example actual earnings\nexpected_earnings = 4.5  # Example expected earnings\nearnings_surprise = get_earnings_surprise(actual_earnings, expected_earnings)\nprint(f\"Earnings Surprise: {earnings_surprise}\")",
      "metadata": {
        "trusted": true
      },
      "outputs": [
        {
          "name": "stdout",
          "text": "Earnings Surprise: 0.1111111111111111\n",
          "output_type": "stream"
        }
      ],
      "execution_count": 3
    },
    {
      "cell_type": "markdown",
      "source": "# 4.Institutional Ownership Changes:\n\nThis code retrieves and sums up changes in institutional ownership, providing insight into how large investors are trading the stock.",
      "metadata": {}
    },
    {
      "cell_type": "code",
      "source": "import requests\n\ndef get_institutional_ownership_changes(stock_symbol):\n    url = f\"https://finnhub.io/api/v1/stock/institutional-ownership?symbol={stock_symbol}&token=YOUR_API_KEY\"\n    response = requests.get(url).json()\n    changes = [ownership['shareChange'] for ownership in response['ownership']]\n    return sum(changes)\n\n# Example usage\nstock_symbol = \"AAPL\"\ninstitutional_ownership_changes = get_institutional_ownership_changes(stock_symbol)\nprint(f\"Institutional Ownership Changes: {institutional_ownership_changes}\")",
      "metadata": {
        "trusted": true
      },
      "outputs": [],
      "execution_count": null
    },
    {
      "cell_type": "markdown",
      "source": "# 5. Alternative Data Sources:\n\nThis placeholder function represents how one might pull and use alternative data sources to generate a unique score related to the stock's performance.",
      "metadata": {}
    },
    {
      "cell_type": "code",
      "source": "import requests\n\ndef get_alternative_data_score(stock_symbol):\n    # Placeholder function to simulate alternative data score calculation\n    # In practice, you would pull data from various sources such as satellite imagery, web traffic, etc.\n    return 42  # Example score\n\n# Example usage\nstock_symbol = \"AAPL\"\nalternative_data_score = get_alternative_data_score(stock_symbol)\nprint(f\"Alternative Data Score: {alternative_data_score}\")",
      "metadata": {
        "trusted": true
      },
      "outputs": [],
      "execution_count": null
    }
  ]
}