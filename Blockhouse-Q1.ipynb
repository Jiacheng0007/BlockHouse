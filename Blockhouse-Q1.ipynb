{
  "metadata": {
    "kernelspec": {
      "name": "python",
      "display_name": "Python (Pyodide)",
      "language": "python"
    },
    "language_info": {
      "codemirror_mode": {
        "name": "python",
        "version": 3
      },
      "file_extension": ".py",
      "mimetype": "text/x-python",
      "name": "python",
      "nbconvert_exporter": "python",
      "pygments_lexer": "ipython3",
      "version": "3.8"
    }
  },
  "nbformat_minor": 4,
  "nbformat": 4,
  "cells": [
    {
      "cell_type": "markdown",
      "source": "# Some features require access to external data sources, so I will write pseudocode or simplified versions where necessary.",
      "metadata": {}
    },
    {
      "cell_type": "markdown",
      "source": "## 1.Sentiment Score:\n\nThis code calculates the average sentiment score from a list of news articles using the VADER sentiment analysis tool. It helps gauge market sentiment toward the stock.",
      "metadata": {}
    },
    {
      "cell_type": "code",
      "source": "import nltk\nfrom nltk.sentiment.vader import SentimentIntensityAnalyzer\nimport requests\n\n# Ensure you have the VADER lexicon downloaded\nnltk.download('vader_lexicon')\n\ndef get_sentiment_score(news_articles):\n    sia = SentimentIntensityAnalyzer()\n    scores = [sia.polarity_scores(article)['compound'] for article in news_articles]\n    return sum(scores) / len(scores) if scores else 0\n\n# Example usage with a list of news articles\nnews_articles = [\n    \"Company X's earnings beat expectations, stock surges.\",\n    \"Company X faces legal issues, stock might take a hit.\"\n]\nsentiment_score = get_sentiment_score(news_articles)\nprint(f\"Sentiment Score: {sentiment_score}\")",
      "metadata": {
        "trusted": true
      },
      "outputs": [],
      "execution_count": null
    },
    {
      "cell_type": "markdown",
      "source": "# 2.Insider Trading Activity:\n\nThis code fetches insider trading data from an API and calculates the total number of shares traded by insiders, which can indicate insider confidence.",
      "metadata": {}
    },
    {
      "cell_type": "code",
      "source": "import requests\n\ndef get_insider_trading_activity(stock_symbol):\n    url = f\"https://finnhub.io/api/v1/stock/insider-transactions?symbol={stock_symbol}&token=YOUR_API_KEY\"\n    response = requests.get(url).json()\n    total_shares = sum([transaction['share'] for transaction in response['data']])\n    return total_shares\n\n# Example usage\nstock_symbol = \"AAPL\"\ninsider_trading_activity = get_insider_trading_activity(stock_symbol)\nprint(f\"Insider Trading Activity: {insider_trading_activity}\")",
      "metadata": {
        "trusted": true
      },
      "outputs": [],
      "execution_count": null
    },
    {
      "cell_type": "markdown",
      "source": "# 3.Earnings Surprise:\n\nThis code calculates the earnings surprise, which is the percentage difference between actual and expected earnings, an important factor for predicting stock movements.",
      "metadata": {}
    },
    {
      "cell_type": "code",
      "source": "def get_earnings_surprise(actual_earnings, expected_earnings):\n    return (actual_earnings - expected_earnings) / expected_earnings\n\n# Example usage\nactual_earnings = 5.0  # Example actual earnings\nexpected_earnings = 4.5  # Example expected earnings\nearnings_surprise = get_earnings_surprise(actual_earnings, expected_earnings)\nprint(f\"Earnings Surprise: {earnings_surprise}\")",
      "metadata": {
        "trusted": true
      },
      "outputs": [
        {
          "name": "stdout",
          "text": "Earnings Surprise: 0.1111111111111111\n",
          "output_type": "stream"
        }
      ],
      "execution_count": 3
    },
    {
      "cell_type": "markdown",
      "source": "# 4.Institutional Ownership Changes:\n\nThis code retrieves and sums up changes in institutional ownership, providing insight into how large investors are trading the stock.",
      "metadata": {}
    },
    {
      "cell_type": "code",
      "source": "import requests\n\ndef get_institutional_ownership_changes(stock_symbol):\n    url = f\"https://finnhub.io/api/v1/stock/institutional-ownership?symbol={stock_symbol}&token=YOUR_API_KEY\"\n    response = requests.get(url).json()\n    changes = [ownership['shareChange'] for ownership in response['ownership']]\n    return sum(changes)\n\n# Example usage\nstock_symbol = \"AAPL\"\ninstitutional_ownership_changes = get_institutional_ownership_changes(stock_symbol)\nprint(f\"Institutional Ownership Changes: {institutional_ownership_changes}\")",
      "metadata": {
        "trusted": true
      },
      "outputs": [],
      "execution_count": null
    },
    {
      "cell_type": "markdown",
      "source": "# 5. Alternative Data Sources:\n\nThis placeholder function represents how one might pull and use alternative data sources to generate a unique score related to the stock's performance.",
      "metadata": {}
    },
    {
      "cell_type": "code",
      "source": "import requests\n\ndef get_alternative_data_score(stock_symbol):\n    # Placeholder function to simulate alternative data score calculation\n    # In practice, you would pull data from various sources such as satellite imagery, web traffic, etc.\n    return 42  # Example score\n\n# Example usage\nstock_symbol = \"AAPL\"\nalternative_data_score = get_alternative_data_score(stock_symbol)\nprint(f\"Alternative Data Score: {alternative_data_score}\")",
      "metadata": {
        "trusted": true
      },
      "outputs": [],
      "execution_count": null
    },
    {
      "cell_type": "markdown",
      "source": "# New paper \\#1 Impermanent loss and slippage in Automated Market Makers (AMMs) with constant-product formula\n\nThe paper \"Impermanent loss and slippage in Automated Market Makers (AMMs) with constant-product formula\" by Mauricio Labadie explores the mathematical frameworks underlying the operation of AMMs, particularly focusing on impermanent loss and slippage experienced by liquidity providers and traders within these systems. Here's a detailed look at the mathematical models employed:\n\n## 1. Constant-Product Formula:\n\nFormula:$$x(t)\\times y(t)=k$$\n\nThe model starts by establishing that the product of the reserves of two tokens (x and y) in the liquidity pool remains constant over time, denoted by k. This foundational equation governs the price dynamics and liquidity adjustments in response to trade activities.\n## 2. Slippage Calculation:\n\nContext: Slippage occurs when the actual price of a trade differs from the expected price at the time the transaction is made. In AMMs, this is influenced by the size of the transaction relative to the pool's liquidity.\n\nModel: The paper integrates slippage into the constant-product model by showing how trades shift the token balances, which then alters the effective price per token due to the invariant k. The slippage is essentially the cost difference incurred by the trader due to these balance shifts.\n\n## 3. Impermanent Loss:\n\nModel: Described as the difference in value between holding tokens in the liquidity pool versus holding them outside the pool. It’s calculated based on the changes in token valuation following price shifts in the market. The formula used considers the initial and current state of token reserves and their prices to determine the financial impact on liquidity providers.\n\nFormula: \n$$Impermanent\\ Loss=Hold(t)−Liquidity(t)$$\nwhere $Hold(t)$ and $Liquidity(t)$ are the values of the tokens if held outside versus inside the AMM.\n\n## 4. Price Dependency and Liquidity Adjustments:\n\nDynamic Adjustments: The paper delves into how price changes for one token influence the reserve requirements for the other token, maintaining the constant product. This interdependency is crucial for understanding how AMMs buffer against market volatility and manage liquidity provisions.\n\nThese models are crucial for understanding the economic incentives and potential drawbacks of participating in AMMs, particularly in decentralized finance (DeFi) platforms. They provide a quantitative framework for assessing risks like impermanent loss and the costs associated with transaction slippage, essential for both traders and liquidity providers in these automated systems.",
      "metadata": {}
    },
    {
      "cell_type": "markdown",
      "source": "# New paper \\#2 Optimal Order Execution in Intraday Markets: Minimizing Costs in Trade Trajectories\n\nThe paper \"Optimal Order Execution in Intraday Markets: Minimizing Costs in Trade Trajectories\" discusses the optimization of trading strategies within the German electricity intraday market, with a focus on reducing execution costs and slippage through the strategic timing and sizing of orders. Here's a summary of the mathematical models used for slippage calculations:\n\n## Mathematical Model Overview:\n\n### 1.Order Book Data Utilization:\n\nThe paper emphasizes the significance of limit order book (LOB) data over simple trade data, highlighting how the depth and structure of the order book can influence trading decisions and cost efficiency. It uses detailed LOB data to understand the microstructural behavior of the market, which is crucial for developing effective trading algorithms.\n\n### 2.Slippage Calculation Models:\n\nBid-Ask Spread Analysis: The paper utilizes the bid-ask spread as a primary indicator of slippage, where slippage is defined by the cost incurred due to the difference between the expected price of a trade and the actual executed price.\n\nVolume Impact on Slippage: It explores how the size of an order affects the bid-ask spread, thereby influencing slippage. Larger orders tend to have a greater market impact, leading to higher slippage.\n\n### 3.Optimal Execution Strategy:\n\nThe strategy focuses on minimizing the transaction costs, including slippage, by choosing the best possible execution time and order size. The model incorporates factors such as order book depth and anticipated market movements to optimize the execution of large orders.\n\n### 4.Model Implementation:\n\nDiscretization Methodology: The paper discusses a method to discretize trading data to handle the large datasets efficiently. This includes segmenting the order data into time and volume buckets to simplify the analysis and implementation of the trading model.\n\nDynamic Cost Function: A dynamic cost function is used, considering both temporary and permanent market impacts derived from the order book. This function helps in minimizing the expected cost of trading while considering the variance of these costs, aiming for an optimal balance between risk and return.",
      "metadata": {}
    },
    {
      "cell_type": "markdown",
      "source": "The model implementation for optimal order execution in intraday markets, as discussed in the paper \"Optimal Order Execution in Intraday Markets: Minimizing Costs in Trade Trajectories,\" involves a detailed approach to handling and analyzing order book data to optimize trading strategies. Here’s a deeper look into the specifics of the model implementation:",
      "metadata": {}
    },
    {
      "cell_type": "markdown",
      "source": "# Discretization Methodology\n\nThe model uses a discretization methodology to manage the complexity and size of the order book data. This approach involves:\n\nTime and Volume Buckets: The data is segmented into discrete intervals or \"buckets\" based on time and trading volume. This segmentation helps in managing large datasets by reducing the computational load and focusing on significant data points.\n\nDynamic Buckets: Depending on the arrival time of a trading position, the model dynamically adjusts the length and number of these buckets. This flexibility ensures that the model can adapt to different trading scenarios and optimize execution based on the most current and relevant data.\n\n# Dynamic Cost Function\n\nA dynamic cost function is central to the model, incorporating several key components:\n\nTemporary and Permanent Market Impacts: The model distinguishes between temporary impacts (immediate but short-lived effects on prices due to trades) and permanent impacts (long-term changes in market prices after trades are executed).\n\nCost Function Formulation: The cost function is designed to minimize the expected cost of trades while considering the variance of these costs. This helps in balancing the trade-off between risk (price variability due to market impact) and reward (lower execution costs).\n\n# Mathematical Formulation\n\nThe model applies advanced mathematical techniques to estimate and minimize slippage:\n\nMarket Impact Functions: These functions are calculated using historical and real-time order book data to predict how a given trade size will affect the market price, both immediately and over time.\n\nOptimization Algorithms: Techniques such as simulated annealing or genetic algorithms are used to find the optimal trading trajectory that minimizes the cost function. These algorithms are chosen for their ability to handle complex, non-linear optimization problems typical in financial markets.\n\n# Practical Implementation\n\nSoftware and Tools: The implementation of this model in a real-world trading system would require robust software capable of handling real-time data processing and complex algorithmic calculations.\n\nReal-Time Data Processing: To effectively use this model, a trading system must be capable of processing real-time order book data, extracting relevant information, and executing trades based on the model’s recommendations quickly to capitalize on optimal trading opportunities.",
      "metadata": {}
    },
    {
      "cell_type": "code",
      "source": "",
      "metadata": {
        "trusted": true
      },
      "outputs": [],
      "execution_count": null
    }
  ]
}